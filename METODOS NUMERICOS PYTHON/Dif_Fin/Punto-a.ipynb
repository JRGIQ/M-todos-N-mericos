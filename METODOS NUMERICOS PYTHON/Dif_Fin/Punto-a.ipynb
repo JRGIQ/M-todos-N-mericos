{
 "cells": [
  {
   "cell_type": "markdown",
   "metadata": {},
   "source": [
    "# DIFERENCIAS FINITAS #"
   ]
  },
  {
   "cell_type": "markdown",
   "metadata": {},
   "source": [
    "### Cargar módulos necesarios para el programa ###\n",
    "\n",
    "* En este módulo se llaman las librerías necesarias para la creación del programa. La librería numpy que permite realizar operaciones con matrices o vectores."
   ]
  },
  {
   "cell_type": "code",
   "execution_count": 192,
   "metadata": {},
   "outputs": [],
   "source": [
    "import numpy as np  "
   ]
  },
  {
   "cell_type": "markdown",
   "metadata": {},
   "source": [
    "### Modulo para el valor de las condiciones de frontera ###\n",
    "\n",
    "* En el siguiente modulo se le pueden ajustar los valores frontera. Únicamente cambiando cada valor frontera se puede resolver el ejercicio de la misma forma para cualquiera de los casos de estudio.\n",
    "\n",
    "![IMAGE](IM2.png)"
   ]
  },
  {
   "cell_type": "code",
   "execution_count": 193,
   "metadata": {},
   "outputs": [],
   "source": [
    "a=1#float(input(\"Ingresar condición inicial superior = \"))\n",
    "c=0#float(input(\"Ingresar condición inicial inferior = \"))\n",
    "b=0#float(input(\"Ingresar condición inicial derecha = \"))\n",
    "d=0#float(input(\"Ingresar condición inicial izquierda = \"))"
   ]
  },
  {
   "cell_type": "markdown",
   "metadata": {},
   "source": [
    "### Número de nodos ###\n",
    "* En este módulo se pueden ajustar los valores para el número de nodos ***NodosX-NodosY***, y se crea la respectiva matriz que representa el arreglo nodal.\n",
    "* Se debe tener en cuenta que el número de nodosX y nodosY se puede ajustar a las condiciones que requiere el ejercicio. Es decir para arreglos de 5x5, 11x11 y 31x31 nodos."
   ]
  },
  {
   "cell_type": "code",
   "execution_count": 194,
   "metadata": {},
   "outputs": [],
   "source": [
    "NodosX=11  # Número de nodos o particiones para el eje X.\n",
    "NodosY=11  # Número de nodos o particiones del eje Y.\n",
    "matriz=np.zeros((NodosX,NodosY))  # Crea una matriz para guardar los datos obtenidos de la matriz del sistema.\n",
    "malla=np.zeros((NodosX,NodosY))  # Crea una matriz para guardar los valores supuestos de cada iteración.\n",
    "error=np.zeros((NodosX,NodosY))  # Crea una matriz que guarda el error en cada iteración."
   ]
  },
  {
   "cell_type": "markdown",
   "metadata": {},
   "source": [
    "### Calculo de valores supuestos ###\n",
    "* En este módulo, se realiza el llenado de la matriz para los valores supuestos de cada nodo. Este cálculo se realiza calculando un promedio entre los nodos que relacionan cada sección. Es decir, para los nodos superiores se determina un promedio entre los valores de las fronteras norte, oriente y occidente. Para los valored centrales se realiza un promedio con los valores de los valores de las fronteras oriente y occidente. Por último, para los valores supuestos de la parte interior, se toma un promedio entre los valores de las fronteras sur, oriente y occidente. Esto se realiza porque el método de solución es iterativo y se necesita un valor inicial de aproximación. "
   ]
  },
  {
   "cell_type": "code",
   "execution_count": 195,
   "metadata": {},
   "outputs": [],
   "source": [
    "for m in range(0,NodosX-1):\n",
    "    for n in range(0,NodosY-1):\n",
    "        \n",
    "        malla[0,n]=(a+d+b)/3\n",
    "        malla[m+1,n]=(d+b)/2\n",
    "        malla[NodosX-1,n]=(b+d+c)/3 "
   ]
  },
  {
   "cell_type": "markdown",
   "metadata": {},
   "source": [
    "### Calculo de la matriz del sistema ###\n",
    "* En este módulo se inicia con el método que determinará la matriz del sistema.\n",
    "* Se pueden ajustar parametros como el número máximo de iteraciones **\"max\"** y el valor de la **tolerancia** del método.\n",
    "* El método se inicia clasificando los nodos de acuerdo a su posición en tres regiones, **nodos superiores, centrales e inferiores** de acuerdo al siguente arreglo.\n",
    "![IMAGE](IM4.png)\n",
    "* Para los nodos superiores, se clasifican los nodos segun el siguiente arreglo.\n",
    "![IMAGE](IM5.png)\n",
    "* Para los nodos de la región central, se procede a clasificarlos segun el siguiente arreglo.\n",
    "![IMAGE](IM6.png)\n",
    "* Para los nodos de la región inferior se clasifican segun el siguiente arreglo.\n",
    "![IMAGE](IM7.png)"
   ]
  },
  {
   "cell_type": "code",
   "execution_count": 196,
   "metadata": {},
   "outputs": [],
   "source": [
    "for k in range(0,NodosX):       \n",
    "            for l in range(0,NodosY):\n",
    "\n",
    "                n=1  # Contador inicial para el ciclo.\n",
    "                max=100  # Número máximo de iteraciones.\n",
    "                Tolerancia=1e-3\n",
    "                               \n",
    "                while  n<=max:  # Se inicia el ciclo iterativo.\n",
    "                            \n",
    "                            for i in range(0,NodosX-2):\n",
    "                                for j in range(0,NodosY-2):\n",
    "\n",
    "                                    ## ECUACIONES PARA LOS NODOS SUPERIORES\n",
    "                                    \n",
    "                                    matriz[0,0]=(malla[1,0]+a+malla[0,1]+d)/4  # Ecuación que representa el nodo de esquina superior izquiera.   \n",
    "                                    matriz[0,j+1]=(malla[1,j+1]+a+malla[0,j+1]+matriz[0,j])/4  # Ecuación que representa los nodos centrales superiores.                                             \n",
    "                                    matriz[0,NodosY-1]=(matriz[0,NodosY-2]+a+b+malla[1,NodosY-1])/4  # Ecuación que representa el nodo de esquina superior derecha. \n",
    "                            \n",
    "                                      \n",
    "                                    ## ECUACIONES PARA LOS NODOS CENTRALES\n",
    "                                    \n",
    "                                    matriz[i+1,0]=(matriz[i,0]+malla[i+2,0]+malla[i+1,1]+d)/4  # Ecuación que representa los nodos de la parte izquierda.                                    \n",
    "                                    matriz[i+1,j+1]=(malla[i+2,j+1]+matriz[i,j+1]+malla[i+1,j+2]+matriz[i+1,j])/4  # Ecuación que representa los nodos de toda la parte central del arreglo.                                    \n",
    "                                    matriz[i+1,NodosY-1]=(malla[i+2,NodosY-2]+matriz[i,NodosY-1]+b+matriz[i+1,NodosY-2])/4  # Ecuación que representa los nodos de la parte derecha.\n",
    "                                            \n",
    "                            \n",
    "                                    ## ECUACIONES PARA LOS NODOS INFERIORES\n",
    "                                    \n",
    "                                    matriz[NodosX-1,0]=(c+matriz[NodosX-2,0]+malla[NodosX-1,1]+d)/4  # Ecuación que representa el nodo inferior izquierdo.                                    \n",
    "                                    matriz[NodosX-1,j+1]=(c+matriz[NodosX-2,j+1]+malla[NodosX-1,j+2]+matriz[NodosX-1,j])/4  # Ecuación que representa los nodos centrales inferiores.                                   \n",
    "                                    matriz[NodosX-1,NodosY-1]=(c+matriz[NodosX-2,NodosY-1]+b+matriz[NodosX-1,NodosY-2])/4  # Ecuación que representa el nodo inferior derecha.\n",
    "                               \n",
    "                                    \n",
    "                                    error[k,l]=(malla[k,l]-matriz[k,l])  # Cálculo del error entre el valor calculado y el supuesto.\n",
    "                                    ERR=abs(sum(sum(error))) # Error total en la iteración.\n",
    "                                    n=n+1  # Contador para el ciclo (\"necesario para determinar el número de iteraciones mínimas segun tolerancia requerida\")\n",
    "                                    malla[k,l]=matriz[k,l]  # Si la tolerancia no es la requerida, se inicia el ciclo pero ahora los valores supuestos son los calculados.\n",
    "                                       \n",
    "                            if ERR<=Tolerancia:  #  El ciclo para si el error es menor a la tolerancia requerida.\n",
    "                                break   \n",
    "                                \n",
    "                            "
   ]
  },
  {
   "cell_type": "markdown",
   "metadata": {},
   "source": [
    "### Resultados ###\n",
    "* Una vez el error entre la malla de datos supuestos y los calculados sea la requerida, el método llega a una convergencia. En este módulo se imprimen los resultados como número de iteraciones miníma, la matriz del sistema y el error en la convergencia."
   ]
  },
  {
   "cell_type": "code",
   "execution_count": 198,
   "metadata": {},
   "outputs": [
    {
     "name": "stdout",
     "output_type": "stream",
     "text": [
      "TIPO DE APROXIMACIÓN CENTRADA\n",
      "___________________________________________\n",
      "Dimensión de la matriz del sistema = 11 x 11\n",
      "-------------------------------------------\n",
      "Cantidad de nodos totales =  121\n",
      "-------------------------------------------\n",
      "Matriz del sistema :  \n",
      " [[0.39 0.5  0.54 0.56 0.56 0.57 0.57 0.57 0.57 0.57 0.43]\n",
      " [0.14 0.22 0.26 0.28 0.29 0.29 0.29 0.29 0.29 0.28 0.2 ]\n",
      " [0.05 0.1  0.12 0.14 0.14 0.15 0.15 0.15 0.15 0.14 0.1 ]\n",
      " [0.02 0.04 0.06 0.07 0.07 0.07 0.08 0.08 0.08 0.07 0.05]\n",
      " [0.01 0.02 0.03 0.03 0.04 0.04 0.04 0.04 0.04 0.04 0.02]\n",
      " [0.   0.01 0.01 0.02 0.02 0.02 0.02 0.02 0.02 0.02 0.01]\n",
      " [0.   0.   0.01 0.01 0.01 0.01 0.01 0.01 0.01 0.01 0.01]\n",
      " [0.   0.   0.   0.   0.   0.   0.   0.01 0.01 0.   0.  ]\n",
      " [0.   0.   0.   0.   0.   0.   0.   0.   0.   0.   0.  ]\n",
      " [0.   0.   0.   0.   0.   0.   0.   0.   0.   0.   0.  ]\n",
      " [0.   0.   0.   0.   0.   0.   0.   0.   0.   0.   0.  ]]\n",
      "-------------------------------------------\n",
      "VALORES FRONTERA \n",
      " Norte-a = 1\n",
      " Sur-c = 0\n",
      " Oriente-b = 0\n",
      " Occidente-d = 0\n",
      "\n",
      "Número de iteraciones o convergencia =  81\n",
      "-------------------------------------------\n",
      "Tolerancia =  0.0002\n"
     ]
    }
   ],
   "source": [
    "print(\"TIPO DE APROXIMACIÓN CENTRADA\")\n",
    "print(\"___________________________________________\")\n",
    "print(\"Dimensión de la matriz del sistema = {}\".format(NodosX),\"x\",\"{}\".format(NodosY))\n",
    "print(\"-------------------------------------------\")\n",
    "print(\"Cantidad de nodos totales = \", NodosX*NodosY)\n",
    "print(\"-------------------------------------------\")\n",
    "np.set_printoptions(precision=2,suppress=True)\n",
    "print(\"Matriz del sistema : \",\"\\n\",matriz) \n",
    "print(\"-------------------------------------------\")\n",
    "print(\"VALORES FRONTERA \\n Norte-a = {}\\n\".format(a),\"Sur-c = {}\\n\".format(c),\"Oriente-b = {}\\n\".format(b),\"Occidente-d = {}\\n\".format(d))\n",
    "print(\"Número de iteraciones o convergencia = \",n-1)\n",
    "print(\"-------------------------------------------\")\n",
    "print(\"Tolerancia = \", round(ERR,4))\n",
    "\n",
    "\n",
    "# print(len(malla))"
   ]
  },
  {
   "cell_type": "code",
   "execution_count": null,
   "metadata": {},
   "outputs": [],
   "source": []
  },
  {
   "cell_type": "code",
   "execution_count": null,
   "metadata": {},
   "outputs": [],
   "source": []
  }
 ],
 "metadata": {
  "kernelspec": {
   "display_name": "Python 3",
   "language": "python",
   "name": "python3"
  },
  "language_info": {
   "codemirror_mode": {
    "name": "ipython",
    "version": 3
   },
   "file_extension": ".py",
   "mimetype": "text/x-python",
   "name": "python",
   "nbconvert_exporter": "python",
   "pygments_lexer": "ipython3",
   "version": "3.8.3"
  }
 },
 "nbformat": 4,
 "nbformat_minor": 4
}
